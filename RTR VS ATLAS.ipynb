{
 "cells": [
  {
   "cell_type": "code",
   "execution_count": 1,
   "id": "1f0b5aaa",
   "metadata": {},
   "outputs": [],
   "source": [
    "import pandas as pd\n",
    "import geopandas as geo\n",
    "import numpy as np"
   ]
  },
  {
   "cell_type": "code",
   "execution_count": 23,
   "id": "56c03ed3",
   "metadata": {},
   "outputs": [],
   "source": [
    "columns_needed = [\n",
    "\"network_type\",\n",
    "\"lat\",\n",
    "\"long\",\n",
    "\"loc_accuracy\",\n",
    "\"country_location\",\n",
    "\"download_kbit\",\n",
    "\"upload_kbit\",\n",
    " \"implausible\"   \n",
    "]"
   ]
  },
  {
   "cell_type": "code",
   "execution_count": 44,
   "id": "355ecf59",
   "metadata": {},
   "outputs": [],
   "source": [
    "df = pd.read_csv(\"Daten/rtr_datensatz_2019_2020_komplett.csv\",usecols=columns_needed, sep=\",\")"
   ]
  },
  {
   "cell_type": "code",
   "execution_count": 12,
   "id": "756cd477",
   "metadata": {},
   "outputs": [
    {
     "data": {
      "text/plain": [
       "WLAN            2017536\n",
       "LAN             1537839\n",
       "LTE              694672\n",
       "HSPA+             50141\n",
       "CELLULAR_ANY      42678\n",
       "NR                 8640\n",
       "3G/4G              7561\n",
       "EDGE               7017\n",
       "HSDPA              4873\n",
       "NR NSA             4806\n",
       "LTE NR avail       3887\n",
       "UMTS               3565\n",
       "Ethernet           1062\n",
       "HSPA                596\n",
       "2G/4G               512\n",
       "LTE CA              467\n",
       "2G/3G               440\n",
       "HSUPA               233\n",
       "2G/3G/4G            115\n",
       "EVDO_A               76\n",
       "IWLAN                56\n",
       "GSM                  32\n",
       "Bluetooth            29\n",
       "EHRPD                 7\n",
       "1xRTT                 3\n",
       "Name: network_type, dtype: int64"
      ]
     },
     "execution_count": 12,
     "metadata": {},
     "output_type": "execute_result"
    }
   ],
   "source": [
    "rtr.network_type.value_counts()"
   ]
  },
  {
   "cell_type": "code",
   "execution_count": 61,
   "id": "c5e5e36c",
   "metadata": {},
   "outputs": [],
   "source": [
    "Types_mobile =[\"LTE\", \"HSPA+\",\"CELLULAR_ANY\"]\n",
    "Types =[\"WLAN\",\"LAN\",\"LTE\",\"HSPA+\",\"CELLULAR_ANY\"]\n",
    "Types_festnetz = [\"WLAN\",\"LAN\"]"
   ]
  },
  {
   "cell_type": "code",
   "execution_count": 45,
   "id": "d9b6a5b2",
   "metadata": {},
   "outputs": [],
   "source": [
    "df = df[(df[\"loc_accuracy\"] < 150 ) & (df[\"country_location\"] == \"AT\") #wie gross raster? 100 ok?\n",
    "        & (df[\"implausible\"] == False) & df[\"network_type\"].isin(Types) ]"
   ]
  },
  {
   "cell_type": "code",
   "execution_count": 37,
   "id": "5ae44a99",
   "metadata": {},
   "outputs": [
    {
     "data": {
      "text/plain": [
       "WLAN            4432\n",
       "LAN             2356\n",
       "LTE             1333\n",
       "HSPA+             54\n",
       "CELLULAR_ANY      18\n",
       "Name: network_type, dtype: int64"
      ]
     },
     "execution_count": 37,
     "metadata": {},
     "output_type": "execute_result"
    }
   ],
   "source": [
    "df.network_type.value_counts()"
   ]
  },
  {
   "cell_type": "code",
   "execution_count": 46,
   "id": "25833203",
   "metadata": {},
   "outputs": [],
   "source": [
    "df = df.drop(labels=['loc_accuracy', 'country_location', 'implausible'], axis=1)"
   ]
  },
  {
   "cell_type": "code",
   "execution_count": 47,
   "id": "2a391e70",
   "metadata": {},
   "outputs": [],
   "source": [
    "gdf = geo.GeoDataFrame(\n",
    "    df, geometry=geo.points_from_xy(df.long,df.lat),crs=\"EPSG:4326\")\n",
    "gdf = gdf.to_crs(\"EPSG:31287\")\n",
    "gdf = gdf.drop(labels=['lat', 'long'], axis=1)"
   ]
  },
  {
   "cell_type": "code",
   "execution_count": 48,
   "id": "ec5b6236",
   "metadata": {},
   "outputs": [],
   "source": [
    "gdf.reset_index(drop=True,inplace=True)"
   ]
  },
  {
   "cell_type": "code",
   "execution_count": 42,
   "id": "24aaa4cd",
   "metadata": {},
   "outputs": [],
   "source": [
    "AUTmap = geo.read_file(\"Atlas Daten/STATISTIK_AUSTRIA_L000100_LAEA.shp\",crs= \"EPSG:3035\")\n",
    "# EPSG:3035 Projektion"
   ]
  },
  {
   "cell_type": "code",
   "execution_count": 50,
   "id": "e13d4354",
   "metadata": {},
   "outputs": [],
   "source": [
    "AUTmap= AUTmap.to_crs(\"EPSG:31287\")"
   ]
  },
  {
   "cell_type": "code",
   "execution_count": 51,
   "id": "e940859c",
   "metadata": {},
   "outputs": [],
   "source": [
    "AUTmap_Merged = geo.sjoin(AUTmap,gdf,how=\"left\")"
   ]
  },
  {
   "cell_type": "code",
   "execution_count": 62,
   "id": "4ad39c93",
   "metadata": {},
   "outputs": [],
   "source": [
    "AUTmap_Merged_mobile = AUTmap_Merged[AUTmap_Merged[\"network_type\"].isin(Types_mobile)]\n",
    "AUTmap_Merged_festnetz = AUTmap_Merged[AUTmap_Merged[\"network_type\"].isin(Types_festnetz)]\n"
   ]
  },
  {
   "cell_type": "code",
   "execution_count": 67,
   "id": "9bf4ff5f",
   "metadata": {},
   "outputs": [
    {
     "data": {
      "text/html": [
       "<div>\n",
       "<style scoped>\n",
       "    .dataframe tbody tr th:only-of-type {\n",
       "        vertical-align: middle;\n",
       "    }\n",
       "\n",
       "    .dataframe tbody tr th {\n",
       "        vertical-align: top;\n",
       "    }\n",
       "\n",
       "    .dataframe thead th {\n",
       "        text-align: right;\n",
       "    }\n",
       "</style>\n",
       "<table border=\"1\" class=\"dataframe\">\n",
       "  <thead>\n",
       "    <tr style=\"text-align: right;\">\n",
       "      <th></th>\n",
       "      <th>ID</th>\n",
       "      <th>NAME</th>\n",
       "      <th>geometry</th>\n",
       "      <th>index_right</th>\n",
       "      <th>network_type</th>\n",
       "      <th>download_kbit</th>\n",
       "      <th>upload_kbit</th>\n",
       "    </tr>\n",
       "  </thead>\n",
       "  <tbody>\n",
       "    <tr>\n",
       "      <th>391</th>\n",
       "      <td>100mN27250E48014</td>\n",
       "      <td>CRS3035RES100mN2725000E4801400</td>\n",
       "      <td>POLYGON ((629290.726 399235.890, 629295.160 39...</td>\n",
       "      <td>2179018.0</td>\n",
       "      <td>LTE</td>\n",
       "      <td>54592.0</td>\n",
       "      <td>35228.0</td>\n",
       "    </tr>\n",
       "    <tr>\n",
       "      <th>764</th>\n",
       "      <td>100mN27219E48041</td>\n",
       "      <td>CRS3035RES100mN2721900E4804100</td>\n",
       "      <td>POLYGON ((631849.573 396013.133, 631854.005 39...</td>\n",
       "      <td>1130142.0</td>\n",
       "      <td>CELLULAR_ANY</td>\n",
       "      <td>33116.0</td>\n",
       "      <td>11163.0</td>\n",
       "    </tr>\n",
       "    <tr>\n",
       "      <th>791</th>\n",
       "      <td>100mN27217E48044</td>\n",
       "      <td>CRS3035RES100mN2721700E4804400</td>\n",
       "      <td>POLYGON ((632140.295 395799.291, 632144.727 39...</td>\n",
       "      <td>217667.0</td>\n",
       "      <td>CELLULAR_ANY</td>\n",
       "      <td>17786.0</td>\n",
       "      <td>8433.0</td>\n",
       "    </tr>\n",
       "    <tr>\n",
       "      <th>791</th>\n",
       "      <td>100mN27217E48044</td>\n",
       "      <td>CRS3035RES100mN2721700E4804400</td>\n",
       "      <td>POLYGON ((632140.295 395799.291, 632144.727 39...</td>\n",
       "      <td>2008796.0</td>\n",
       "      <td>CELLULAR_ANY</td>\n",
       "      <td>8462.0</td>\n",
       "      <td>9788.0</td>\n",
       "    </tr>\n",
       "    <tr>\n",
       "      <th>791</th>\n",
       "      <td>100mN27217E48044</td>\n",
       "      <td>CRS3035RES100mN2721700E4804400</td>\n",
       "      <td>POLYGON ((632140.295 395799.291, 632144.727 39...</td>\n",
       "      <td>2029271.0</td>\n",
       "      <td>CELLULAR_ANY</td>\n",
       "      <td>9181.0</td>\n",
       "      <td>6327.0</td>\n",
       "    </tr>\n",
       "    <tr>\n",
       "      <th>...</th>\n",
       "      <td>...</td>\n",
       "      <td>...</td>\n",
       "      <td>...</td>\n",
       "      <td>...</td>\n",
       "      <td>...</td>\n",
       "      <td>...</td>\n",
       "      <td>...</td>\n",
       "    </tr>\n",
       "    <tr>\n",
       "      <th>8434557</th>\n",
       "      <td>100mN27257E48012</td>\n",
       "      <td>CRS3035RES100mN2725700E4801200</td>\n",
       "      <td>POLYGON ((629122.044 399944.330, 629126.479 40...</td>\n",
       "      <td>2341128.0</td>\n",
       "      <td>LTE</td>\n",
       "      <td>37523.0</td>\n",
       "      <td>10806.0</td>\n",
       "    </tr>\n",
       "    <tr>\n",
       "      <th>8434557</th>\n",
       "      <td>100mN27257E48012</td>\n",
       "      <td>CRS3035RES100mN2725700E4801200</td>\n",
       "      <td>POLYGON ((629122.044 399944.330, 629126.479 40...</td>\n",
       "      <td>1156388.0</td>\n",
       "      <td>LTE</td>\n",
       "      <td>58197.0</td>\n",
       "      <td>24626.0</td>\n",
       "    </tr>\n",
       "    <tr>\n",
       "      <th>8434557</th>\n",
       "      <td>100mN27257E48012</td>\n",
       "      <td>CRS3035RES100mN2725700E4801200</td>\n",
       "      <td>POLYGON ((629122.044 399944.330, 629126.479 40...</td>\n",
       "      <td>1156369.0</td>\n",
       "      <td>LTE</td>\n",
       "      <td>36169.0</td>\n",
       "      <td>26518.0</td>\n",
       "    </tr>\n",
       "    <tr>\n",
       "      <th>8434557</th>\n",
       "      <td>100mN27257E48012</td>\n",
       "      <td>CRS3035RES100mN2725700E4801200</td>\n",
       "      <td>POLYGON ((629122.044 399944.330, 629126.479 40...</td>\n",
       "      <td>1174979.0</td>\n",
       "      <td>LTE</td>\n",
       "      <td>104710.0</td>\n",
       "      <td>27814.0</td>\n",
       "    </tr>\n",
       "    <tr>\n",
       "      <th>8434557</th>\n",
       "      <td>100mN27257E48012</td>\n",
       "      <td>CRS3035RES100mN2725700E4801200</td>\n",
       "      <td>POLYGON ((629122.044 399944.330, 629126.479 40...</td>\n",
       "      <td>1133937.0</td>\n",
       "      <td>LTE</td>\n",
       "      <td>105514.0</td>\n",
       "      <td>33467.0</td>\n",
       "    </tr>\n",
       "  </tbody>\n",
       "</table>\n",
       "<p>630016 rows × 7 columns</p>\n",
       "</div>"
      ],
      "text/plain": [
       "                       ID                            NAME  \\\n",
       "391      100mN27250E48014  CRS3035RES100mN2725000E4801400   \n",
       "764      100mN27219E48041  CRS3035RES100mN2721900E4804100   \n",
       "791      100mN27217E48044  CRS3035RES100mN2721700E4804400   \n",
       "791      100mN27217E48044  CRS3035RES100mN2721700E4804400   \n",
       "791      100mN27217E48044  CRS3035RES100mN2721700E4804400   \n",
       "...                   ...                             ...   \n",
       "8434557  100mN27257E48012  CRS3035RES100mN2725700E4801200   \n",
       "8434557  100mN27257E48012  CRS3035RES100mN2725700E4801200   \n",
       "8434557  100mN27257E48012  CRS3035RES100mN2725700E4801200   \n",
       "8434557  100mN27257E48012  CRS3035RES100mN2725700E4801200   \n",
       "8434557  100mN27257E48012  CRS3035RES100mN2725700E4801200   \n",
       "\n",
       "                                                  geometry  index_right  \\\n",
       "391      POLYGON ((629290.726 399235.890, 629295.160 39...    2179018.0   \n",
       "764      POLYGON ((631849.573 396013.133, 631854.005 39...    1130142.0   \n",
       "791      POLYGON ((632140.295 395799.291, 632144.727 39...     217667.0   \n",
       "791      POLYGON ((632140.295 395799.291, 632144.727 39...    2008796.0   \n",
       "791      POLYGON ((632140.295 395799.291, 632144.727 39...    2029271.0   \n",
       "...                                                    ...          ...   \n",
       "8434557  POLYGON ((629122.044 399944.330, 629126.479 40...    2341128.0   \n",
       "8434557  POLYGON ((629122.044 399944.330, 629126.479 40...    1156388.0   \n",
       "8434557  POLYGON ((629122.044 399944.330, 629126.479 40...    1156369.0   \n",
       "8434557  POLYGON ((629122.044 399944.330, 629126.479 40...    1174979.0   \n",
       "8434557  POLYGON ((629122.044 399944.330, 629126.479 40...    1133937.0   \n",
       "\n",
       "         network_type  download_kbit  upload_kbit  \n",
       "391               LTE        54592.0      35228.0  \n",
       "764      CELLULAR_ANY        33116.0      11163.0  \n",
       "791      CELLULAR_ANY        17786.0       8433.0  \n",
       "791      CELLULAR_ANY         8462.0       9788.0  \n",
       "791      CELLULAR_ANY         9181.0       6327.0  \n",
       "...               ...            ...          ...  \n",
       "8434557           LTE        37523.0      10806.0  \n",
       "8434557           LTE        58197.0      24626.0  \n",
       "8434557           LTE        36169.0      26518.0  \n",
       "8434557           LTE       104710.0      27814.0  \n",
       "8434557           LTE       105514.0      33467.0  \n",
       "\n",
       "[630016 rows x 7 columns]"
      ]
     },
     "execution_count": 67,
     "metadata": {},
     "output_type": "execute_result"
    }
   ],
   "source": []
  },
  {
   "cell_type": "code",
   "execution_count": 65,
   "id": "5bc72c6e",
   "metadata": {},
   "outputs": [
    {
     "name": "stderr",
     "output_type": "stream",
     "text": [
      "C:\\Users\\Paul\\anaconda3\\envs\\NewForGeopandas\\lib\\site-packages\\geopandas\\geodataframe.py:1322: SettingWithCopyWarning: \n",
      "A value is trying to be set on a copy of a slice from a DataFrame.\n",
      "Try using .loc[row_indexer,col_indexer] = value instead\n",
      "\n",
      "See the caveats in the documentation: https://pandas.pydata.org/pandas-docs/stable/user_guide/indexing.html#returning-a-view-versus-a-copy\n",
      "  super(GeoDataFrame, self).__setitem__(key, value)\n"
     ]
    }
   ],
   "source": [
    "AUTmap_Merged_mobile['download_kbit'] = AUTmap_Merged_mobile['download_kbit'].fillna(0)\n",
    "AUTmap_Merged_festnetz['download_kbit'] = AUTmap_Merged_festnetz['download_kbit'].fillna(0)"
   ]
  },
  {
   "cell_type": "code",
   "execution_count": 69,
   "id": "9a0fedd9",
   "metadata": {},
   "outputs": [
    {
     "name": "stderr",
     "output_type": "stream",
     "text": [
      "C:\\Users\\Paul\\anaconda3\\envs\\NewForGeopandas\\lib\\site-packages\\geopandas\\geodataframe.py:1322: SettingWithCopyWarning: \n",
      "A value is trying to be set on a copy of a slice from a DataFrame.\n",
      "Try using .loc[row_indexer,col_indexer] = value instead\n",
      "\n",
      "See the caveats in the documentation: https://pandas.pydata.org/pandas-docs/stable/user_guide/indexing.html#returning-a-view-versus-a-copy\n",
      "  super(GeoDataFrame, self).__setitem__(key, value)\n",
      "C:\\Users\\Paul\\anaconda3\\envs\\NewForGeopandas\\lib\\site-packages\\geopandas\\geodataframe.py:1322: SettingWithCopyWarning: \n",
      "A value is trying to be set on a copy of a slice from a DataFrame.\n",
      "Try using .loc[row_indexer,col_indexer] = value instead\n",
      "\n",
      "See the caveats in the documentation: https://pandas.pydata.org/pandas-docs/stable/user_guide/indexing.html#returning-a-view-versus-a-copy\n",
      "  super(GeoDataFrame, self).__setitem__(key, value)\n"
     ]
    }
   ],
   "source": [
    "AUTmap_Merged_mobile[\"Download_Mean\"] = AUTmap_Merged_mobile.groupby('ID')[\"download_kbit\"].transform('mean')\n",
    "AUTmap_Merged_festnetz[\"Download_Mean\"] = AUTmap_Merged_festnetz.groupby('ID')[\"download_kbit\"].transform('mean')"
   ]
  },
  {
   "cell_type": "code",
   "execution_count": null,
   "id": "8dfacde4",
   "metadata": {},
   "outputs": [],
   "source": []
  },
  {
   "cell_type": "code",
   "execution_count": 70,
   "id": "3bd80c18",
   "metadata": {},
   "outputs": [
    {
     "name": "stderr",
     "output_type": "stream",
     "text": [
      "C:\\Users\\Paul\\anaconda3\\envs\\NewForGeopandas\\lib\\site-packages\\geopandas\\geodataframe.py:1322: SettingWithCopyWarning: \n",
      "A value is trying to be set on a copy of a slice from a DataFrame.\n",
      "Try using .loc[row_indexer,col_indexer] = value instead\n",
      "\n",
      "See the caveats in the documentation: https://pandas.pydata.org/pandas-docs/stable/user_guide/indexing.html#returning-a-view-versus-a-copy\n",
      "  super(GeoDataFrame, self).__setitem__(key, value)\n",
      "C:\\Users\\Paul\\anaconda3\\envs\\NewForGeopandas\\lib\\site-packages\\geopandas\\geodataframe.py:1322: SettingWithCopyWarning: \n",
      "A value is trying to be set on a copy of a slice from a DataFrame.\n",
      "Try using .loc[row_indexer,col_indexer] = value instead\n",
      "\n",
      "See the caveats in the documentation: https://pandas.pydata.org/pandas-docs/stable/user_guide/indexing.html#returning-a-view-versus-a-copy\n",
      "  super(GeoDataFrame, self).__setitem__(key, value)\n"
     ]
    }
   ],
   "source": [
    "AUTmap_Merged_mobile[\"Download_Max\"] = AUTmap_Merged_mobile.groupby('ID')[\"download_kbit\"].transform('max')\n",
    "AUTmap_Merged_festnetz[\"Download_Max\"] = AUTmap_Merged_festnetz.groupby('ID')[\"download_kbit\"].transform('max')"
   ]
  },
  {
   "cell_type": "code",
   "execution_count": 71,
   "id": "c0ce94da",
   "metadata": {},
   "outputs": [
    {
     "name": "stderr",
     "output_type": "stream",
     "text": [
      "C:\\Users\\Paul\\anaconda3\\envs\\NewForGeopandas\\lib\\site-packages\\geopandas\\geodataframe.py:1322: SettingWithCopyWarning: \n",
      "A value is trying to be set on a copy of a slice from a DataFrame.\n",
      "Try using .loc[row_indexer,col_indexer] = value instead\n",
      "\n",
      "See the caveats in the documentation: https://pandas.pydata.org/pandas-docs/stable/user_guide/indexing.html#returning-a-view-versus-a-copy\n",
      "  super(GeoDataFrame, self).__setitem__(key, value)\n",
      "C:\\Users\\Paul\\anaconda3\\envs\\NewForGeopandas\\lib\\site-packages\\geopandas\\geodataframe.py:1322: SettingWithCopyWarning: \n",
      "A value is trying to be set on a copy of a slice from a DataFrame.\n",
      "Try using .loc[row_indexer,col_indexer] = value instead\n",
      "\n",
      "See the caveats in the documentation: https://pandas.pydata.org/pandas-docs/stable/user_guide/indexing.html#returning-a-view-versus-a-copy\n",
      "  super(GeoDataFrame, self).__setitem__(key, value)\n"
     ]
    }
   ],
   "source": [
    "AUTmap_Merged_mobile[\"Download_Median\"] = AUTmap_Merged_mobile.groupby('ID')[\"download_kbit\"].transform('median')\n",
    "AUTmap_Merged_festnetz[\"Download_Median\"] = AUTmap_Merged_festnetz.groupby('ID')[\"download_kbit\"].transform('median')"
   ]
  },
  {
   "cell_type": "code",
   "execution_count": 73,
   "id": "2bf80da7",
   "metadata": {},
   "outputs": [
    {
     "name": "stderr",
     "output_type": "stream",
     "text": [
      "C:\\Users\\Paul\\anaconda3\\envs\\NewForGeopandas\\lib\\site-packages\\geopandas\\geodataframe.py:1322: SettingWithCopyWarning: \n",
      "A value is trying to be set on a copy of a slice from a DataFrame.\n",
      "Try using .loc[row_indexer,col_indexer] = value instead\n",
      "\n",
      "See the caveats in the documentation: https://pandas.pydata.org/pandas-docs/stable/user_guide/indexing.html#returning-a-view-versus-a-copy\n",
      "  super(GeoDataFrame, self).__setitem__(key, value)\n",
      "C:\\Users\\Paul\\anaconda3\\envs\\NewForGeopandas\\lib\\site-packages\\geopandas\\geodataframe.py:1322: SettingWithCopyWarning: \n",
      "A value is trying to be set on a copy of a slice from a DataFrame.\n",
      "Try using .loc[row_indexer,col_indexer] = value instead\n",
      "\n",
      "See the caveats in the documentation: https://pandas.pydata.org/pandas-docs/stable/user_guide/indexing.html#returning-a-view-versus-a-copy\n",
      "  super(GeoDataFrame, self).__setitem__(key, value)\n"
     ]
    }
   ],
   "source": [
    "AUTmap_Merged_mobile[\"Download_Count\"] = AUTmap_Merged_mobile.groupby('ID')[\"download_kbit\"].transform('count')\n",
    "AUTmap_Merged_festnetz[\"Download_Count\"] = AUTmap_Merged_festnetz.groupby('ID')[\"download_kbit\"].transform('count')"
   ]
  },
  {
   "cell_type": "code",
   "execution_count": 83,
   "id": "833d75b0",
   "metadata": {},
   "outputs": [],
   "source": [
    "df_gov_fest = pd.read_csv(\"Atlas Daten/festnetz_2021q3_20220203.csv\", sep=\",\")"
   ]
  },
  {
   "cell_type": "code",
   "execution_count": 90,
   "id": "c7f60d27",
   "metadata": {},
   "outputs": [],
   "source": [
    "df_gov_fest_spatial = AUTmap.merge(df_gov_fest,  left_on=\"ID\", right_on=\"l000100v3\")"
   ]
  },
  {
   "cell_type": "code",
   "execution_count": null,
   "id": "44d02816",
   "metadata": {},
   "outputs": [],
   "source": [
    "#count plotten!\""
   ]
  },
  {
   "cell_type": "code",
   "execution_count": 92,
   "id": "b99232b3",
   "metadata": {},
   "outputs": [],
   "source": [
    "df_gov_mobil = pd.read_csv(\"Atlas Daten/mobilfunknetz_2021q3_20220203.csv\", sep=\",\")"
   ]
  },
  {
   "cell_type": "code",
   "execution_count": 93,
   "id": "4c8f0810",
   "metadata": {},
   "outputs": [],
   "source": [
    "df_gov_mobil_spatial = AUTmap.merge(df_gov_mobil, left_on=\"ID\", right_on=\"l000100v3\")"
   ]
  },
  {
   "cell_type": "code",
   "execution_count": 94,
   "id": "a65a0dd0",
   "metadata": {},
   "outputs": [],
   "source": [
    "#  Mbit/s -> kBit/s\n",
    "df_gov_mobil[\"download\"] = 1000 * df_gov_mobil[\"download\"]\n",
    "df_gov_mobil[\"upload\"] = 1000 * df_gov_mobil[\"upload\"]\n",
    "df_gov_mobil_spatial[\"download\"] = 1000 * df_gov_mobil_spatial[\"download\"]\n",
    "df_gov_mobil_spatial[\"upload\"] = 1000 * df_gov_mobil_spatial[\"upload\"]"
   ]
  },
  {
   "cell_type": "code",
   "execution_count": null,
   "id": "898deace",
   "metadata": {},
   "outputs": [],
   "source": []
  },
  {
   "cell_type": "code",
   "execution_count": null,
   "id": "d18b3dc5",
   "metadata": {},
   "outputs": [],
   "source": []
  },
  {
   "cell_type": "code",
   "execution_count": 84,
   "id": "070ab924",
   "metadata": {},
   "outputs": [
    {
     "name": "stderr",
     "output_type": "stream",
     "text": [
      "C:\\Users\\Paul\\anaconda3\\envs\\NewForGeopandas\\lib\\site-packages\\geopandas\\io\\file.py:299: FutureWarning: pandas.Int64Index is deprecated and will be removed from pandas in a future version. Use pandas.Index with the appropriate dtype instead.\n",
      "  pd.Int64Index,\n"
     ]
    }
   ],
   "source": [
    "AUTmap_Merged_mobile.to_file('AUTmap_Merged_mobile.gpkg', driver='GPKG', layer='Mobil_RTR')  \n"
   ]
  },
  {
   "cell_type": "code",
   "execution_count": 85,
   "id": "e5fc370f",
   "metadata": {},
   "outputs": [],
   "source": [
    "AUTmap_Merged_festnetz.to_file('AUTmap_Merged_festnetz.gpkg', driver='GPKG', layer='Festnetz_RTR')  "
   ]
  },
  {
   "cell_type": "code",
   "execution_count": 98,
   "id": "2b9e386c",
   "metadata": {},
   "outputs": [
    {
     "name": "stderr",
     "output_type": "stream",
     "text": [
      "C:\\Users\\Paul\\anaconda3\\envs\\NewForGeopandas\\lib\\site-packages\\geopandas\\io\\file.py:299: FutureWarning: pandas.Int64Index is deprecated and will be removed from pandas in a future version. Use pandas.Index with the appropriate dtype instead.\n",
      "  pd.Int64Index,\n"
     ]
    }
   ],
   "source": [
    "df_gov_fest_spatial.to_file('festnetz_gov.gpkg', driver='GPKG', layer='Festnetz_Gov')  \n"
   ]
  },
  {
   "cell_type": "code",
   "execution_count": null,
   "id": "1092d87e",
   "metadata": {},
   "outputs": [],
   "source": [
    "df_gov_mobil_spatial.to_file('festnetz_mobil.gpkg', driver='GPKG', layer='Mobil_Gov')  \n"
   ]
  },
  {
   "cell_type": "code",
   "execution_count": null,
   "id": "1e1cf686",
   "metadata": {},
   "outputs": [],
   "source": []
  },
  {
   "cell_type": "code",
   "execution_count": 2,
   "id": "dfb04364",
   "metadata": {},
   "outputs": [
    {
     "ename": "NameError",
     "evalue": "name 'geo' is not defined",
     "output_type": "error",
     "traceback": [
      "\u001b[1;31m---------------------------------------------------------------------------\u001b[0m",
      "\u001b[1;31mNameError\u001b[0m                                 Traceback (most recent call last)",
      "Input \u001b[1;32mIn [2]\u001b[0m, in \u001b[0;36m<cell line: 1>\u001b[1;34m()\u001b[0m\n\u001b[1;32m----> 1\u001b[0m masten \u001b[38;5;241m=\u001b[39m \u001b[43mgeo\u001b[49m\u001b[38;5;241m.\u001b[39mread_file(\u001b[38;5;124m\"\u001b[39m\u001b[38;5;124mMobilfunksender/opencellid.gpkg\u001b[39m\u001b[38;5;124m\"\u001b[39m, crs \u001b[38;5;241m=\u001b[39m \u001b[38;5;124m\"\u001b[39m\u001b[38;5;124mEPSG:4326\u001b[39m\u001b[38;5;124m\"\u001b[39m)\n",
      "\u001b[1;31mNameError\u001b[0m: name 'geo' is not defined"
     ]
    }
   ],
   "source": []
  },
  {
   "cell_type": "code",
   "execution_count": null,
   "id": "9ab4370a",
   "metadata": {},
   "outputs": [],
   "source": []
  },
  {
   "cell_type": "code",
   "execution_count": null,
   "id": "774eb031",
   "metadata": {},
   "outputs": [],
   "source": []
  }
 ],
 "metadata": {
  "kernelspec": {
   "display_name": "Python 3 (ipykernel)",
   "language": "python",
   "name": "python3"
  },
  "language_info": {
   "codemirror_mode": {
    "name": "ipython",
    "version": 3
   },
   "file_extension": ".py",
   "mimetype": "text/x-python",
   "name": "python",
   "nbconvert_exporter": "python",
   "pygments_lexer": "ipython3",
   "version": "3.9.12"
  }
 },
 "nbformat": 4,
 "nbformat_minor": 5
}
