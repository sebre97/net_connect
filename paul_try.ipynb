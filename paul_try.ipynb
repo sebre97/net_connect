{
 "cells": [
  {
   "cell_type": "code",
   "execution_count": 1,
   "metadata": {},
   "outputs": [],
   "source": [
    "import geopandas as geo\n",
    "import pandas as pd\n",
    "from shapely.geometry import Point"
   ]
  },
  {
   "cell_type": "code",
   "execution_count": 28,
   "metadata": {},
   "outputs": [],
   "source": [
    "df_first_try = pd.read_csv(\"Daten/rtr_datensatz_2019_2020_komplett.csv\", sep=\",\")"
   ]
  },
  {
   "cell_type": "markdown",
   "metadata": {},
   "source": [
    "## Load Final DataFrame"
   ]
  },
  {
   "cell_type": "code",
   "execution_count": 3,
   "metadata": {},
   "outputs": [],
   "source": [
    "columns_needed = [\n",
    "\"network_type\",\n",
    "\"lat\",\n",
    "\"long\",\n",
    "\"loc_accuracy\",\n",
    "\"country_location\",\n",
    "\"download_kbit\",\n",
    "\"upload_kbit\",\n",
    "\"ping_ms\",\n",
    "\"lte_rsrp\",\n",
    "\"lte_rsrq\",\n",
    "\"platform\",\n",
    "\"model\",\n",
    "\"network_name\",\n",
    "\"ndt_download_kbit\",\n",
    "\"ndt_upload_kbit\",\n",
    "\"implausible\",\n",
    "\"signal_strength\",\n",
    "\"pinned\",\n",
    "\"dtm_level\",\n",
    "\"signal_classification\"]\n"
   ]
  },
  {
   "cell_type": "code",
   "execution_count": 4,
   "metadata": {},
   "outputs": [],
   "source": [
    "df = pd.read_csv(\"Daten/rtr_datensatz_2019_2020_komplett.csv\", sep=\",\", usecols = columns_needed, keep_default_na=False)"
   ]
  },
  {
   "cell_type": "code",
   "execution_count": 6,
   "metadata": {},
   "outputs": [
    {
     "data": {
      "text/plain": [
       "4388792"
      ]
     },
     "execution_count": 6,
     "metadata": {},
     "output_type": "execute_result"
    }
   ],
   "source": [
    "len(df)"
   ]
  },
  {
   "cell_type": "code",
   "execution_count": 5,
   "metadata": {},
   "outputs": [],
   "source": [
    "df = df[(df[\"loc_accuracy\"] < 150 ) & (df[\"country_location\"] == \"AT\") #wie gross raster? 100 ok?\n",
    "        & (df[\"implausible\"] == False)]\n"
   ]
  },
  {
   "cell_type": "code",
   "execution_count": 6,
   "metadata": {},
   "outputs": [
    {
     "data": {
      "text/plain": [
       "3459380"
      ]
     },
     "execution_count": 6,
     "metadata": {},
     "output_type": "execute_result"
    }
   ],
   "source": [
    "len(df)  "
   ]
  },
  {
   "cell_type": "code",
   "execution_count": 7,
   "metadata": {},
   "outputs": [],
   "source": [
    "df = df.drop(labels=['loc_accuracy', 'country_location', 'implausible'], axis=1)"
   ]
  },
  {
   "cell_type": "code",
   "execution_count": 8,
   "metadata": {},
   "outputs": [],
   "source": [
    "gdf = geo.GeoDataFrame(\n",
    "    df, geometry=geo.points_from_xy(df.long,df.lat),crs=\"EPSG:4326\")\n",
    "gdf = gdf.to_crs(\"EPSG:31287\")\n",
    "gdf = gdf.drop(labels=['lat', 'long'], axis=1)"
   ]
  },
  {
   "cell_type": "code",
   "execution_count": 9,
   "metadata": {},
   "outputs": [],
   "source": [
    "gdf.reset_index(drop=True,inplace=True)"
   ]
  },
  {
   "cell_type": "code",
   "execution_count": 17,
   "metadata": {},
   "outputs": [],
   "source": [
    "\n",
    "gdf.to_csv(\"points_rtr.csv\")"
   ]
  },
  {
   "cell_type": "code",
   "execution_count": 10,
   "metadata": {},
   "outputs": [],
   "source": [
    "from shapely.geometry import Polygon, Point\n",
    "from shapely.strtree import STRtree\n",
    "import numpy as np\n",
    "import time\n",
    "import gc"
   ]
  },
  {
   "cell_type": "code",
   "execution_count": 11,
   "metadata": {},
   "outputs": [],
   "source": [
    "AUTmap = geo.read_file(\"Daten/raster_austria.gpkg\")\n"
   ]
  },
  {
   "cell_type": "code",
   "execution_count": 12,
   "metadata": {},
   "outputs": [],
   "source": [
    "Raster_austria_mit_Daten = geo.sjoin(AUTmap,gdf,how=\"left\")"
   ]
  },
  {
   "cell_type": "code",
   "execution_count": 13,
   "metadata": {},
   "outputs": [
    {
     "data": {
      "text/plain": [
       "Index(['id', 'left', 'top', 'right', 'bottom', 'geometry', 'index_right',\n",
       "       'network_type', 'download_kbit', 'upload_kbit', 'ping_ms', 'lte_rsrp',\n",
       "       'lte_rsrq', 'platform', 'model', 'network_name', 'ndt_download_kbit',\n",
       "       'ndt_upload_kbit', 'signal_strength', 'pinned', 'dtm_level',\n",
       "       'signal_classification'],\n",
       "      dtype='object')"
      ]
     },
     "execution_count": 13,
     "metadata": {},
     "output_type": "execute_result"
    }
   ],
   "source": [
    "Raster_austria_mit_Daten.columns"
   ]
  },
  {
   "cell_type": "code",
   "execution_count": 18,
   "metadata": {},
   "outputs": [
    {
     "data": {
      "text/plain": [
       "3508391"
      ]
     },
     "execution_count": 18,
     "metadata": {},
     "output_type": "execute_result"
    }
   ],
   "source": [
    "len(Raster_austria_mit_Daten)"
   ]
  },
  {
   "cell_type": "code",
   "execution_count": 31,
   "metadata": {
    "scrolled": true
   },
   "outputs": [
    {
     "data": {
      "text/plain": [
       "0                 NaN\n",
       "1                 LTE\n",
       "1                WLAN\n",
       "1               3G/4G\n",
       "1        CELLULAR_ANY\n",
       "1                 LAN\n",
       "7               HSPA+\n",
       "10             LTE CA\n",
       "19             NR NSA\n",
       "20              2G/4G\n",
       "24               EDGE\n",
       "39               UMTS\n",
       "41              HSDPA\n",
       "61              IWLAN\n",
       "63       LTE NR avail\n",
       "66                 NR\n",
       "135             2G/3G\n",
       "136          Ethernet\n",
       "170                  \n",
       "820          2G/3G/4G\n",
       "3795             HSPA\n",
       "17006           HSUPA\n",
       "30350             GSM\n",
       "33863       Bluetooth\n",
       "Name: network_type, dtype: object"
      ]
     },
     "execution_count": 31,
     "metadata": {},
     "output_type": "execute_result"
    }
   ],
   "source": [
    "(Raster_austria_mit_Daten.network_type.drop_duplicates())"
   ]
  },
  {
   "cell_type": "code",
   "execution_count": 32,
   "metadata": {},
   "outputs": [
    {
     "data": {
      "text/plain": [
       "558656"
      ]
     },
     "execution_count": 32,
     "metadata": {},
     "output_type": "execute_result"
    }
   ],
   "source": [
    "sum(Raster_austria_mit_Daten.network_type==\"LTE\")"
   ]
  },
  {
   "cell_type": "code",
   "execution_count": null,
   "metadata": {},
   "outputs": [],
   "source": []
  },
  {
   "cell_type": "code",
   "execution_count": null,
   "metadata": {},
   "outputs": [],
   "source": []
  },
  {
   "cell_type": "code",
   "execution_count": null,
   "metadata": {},
   "outputs": [],
   "source": []
  },
  {
   "cell_type": "code",
   "execution_count": 33,
   "metadata": {},
   "outputs": [],
   "source": [
    "Raster_austria_mit_Daten['download_kbit'] = Raster_austria_mit_Daten['download_kbit'].fillna(0)\n"
   ]
  },
  {
   "cell_type": "code",
   "execution_count": 35,
   "metadata": {},
   "outputs": [],
   "source": [
    "Raster_austria_mit_Daten_MAX = Raster_austria_mit_Daten[Raster_austria_mit_Daten.groupby(level=0)\n",
    "                                                        .download_kbit.transform('max')\n",
    "                                                        .eq(Raster_austria_mit_Daten.download_kbit)]\n"
   ]
  },
  {
   "cell_type": "code",
   "execution_count": 43,
   "metadata": {},
   "outputs": [],
   "source": [
    "Raster_austria_mit_Daten_MIN = Raster_austria_mit_Daten[Raster_austria_mit_Daten.groupby(level=0)\n",
    "                                                        .download_kbit.transform('min')\n",
    "                                                        .eq(Raster_austria_mit_Daten.download_kbit)]\n"
   ]
  },
  {
   "cell_type": "code",
   "execution_count": 70,
   "metadata": {},
   "outputs": [],
   "source": [
    "Raster_austria_mit_Daten_MEAN  = Raster_austria_mit_Daten"
   ]
  },
  {
   "cell_type": "code",
   "execution_count": 71,
   "metadata": {},
   "outputs": [],
   "source": [
    "Raster_austria_mit_Daten_MEAN[\"Download_Mean\"] = Raster_austria_mit_Daten_MEAN.groupby('id')[\"download_kbit\"].transform('mean')\n"
   ]
  },
  {
   "cell_type": "code",
   "execution_count": 72,
   "metadata": {},
   "outputs": [],
   "source": [
    "Raster_austria_mit_Daten_MEAN = Raster_austria_mit_Daten_MEAN.groupby(\"id\").first()"
   ]
  },
  {
   "cell_type": "code",
   "execution_count": 77,
   "metadata": {},
   "outputs": [
    {
     "data": {
      "text/plain": [
       "85409"
      ]
     },
     "execution_count": 77,
     "metadata": {},
     "output_type": "execute_result"
    }
   ],
   "source": [
    "len(Raster_austria_mit_Daten_MEAN)"
   ]
  },
  {
   "cell_type": "code",
   "execution_count": 78,
   "metadata": {},
   "outputs": [
    {
     "data": {
      "text/plain": [
       "85409"
      ]
     },
     "execution_count": 78,
     "metadata": {},
     "output_type": "execute_result"
    }
   ],
   "source": [
    "len(AUT)"
   ]
  },
  {
   "cell_type": "code",
   "execution_count": 42,
   "metadata": {},
   "outputs": [],
   "source": [
    "Raster_austria_mit_Daten_MAX.to_csv(\"Raster_austria_Download_MAX.csv\")"
   ]
  },
  {
   "cell_type": "code",
   "execution_count": 45,
   "metadata": {},
   "outputs": [],
   "source": [
    "Raster_austria_mit_Daten_MIN.to_csv(\"Raster_austria_Download_MIN.csv\")"
   ]
  },
  {
   "cell_type": "code",
   "execution_count": 75,
   "metadata": {},
   "outputs": [],
   "source": [
    "Raster_austria_mit_Daten_MEAN.to_csv(\"Raster_austria_Download_AVERAGE.csv\")"
   ]
  },
  {
   "cell_type": "code",
   "execution_count": 19,
   "metadata": {},
   "outputs": [],
   "source": [
    "AUTmap = geo.read_file(\"Daten/raster_austria.gpkg\")\n",
    "AUTmap['IndexListe'] = np.empty((len(AUTmap), 0)).tolist()"
   ]
  }
 ],
 "metadata": {
  "kernelspec": {
   "display_name": "Python 3 (ipykernel)",
   "language": "python",
   "name": "python3"
  },
  "language_info": {
   "codemirror_mode": {
    "name": "ipython",
    "version": 3
   },
   "file_extension": ".py",
   "mimetype": "text/x-python",
   "name": "python",
   "nbconvert_exporter": "python",
   "pygments_lexer": "ipython3",
   "version": "3.9.12"
  }
 },
 "nbformat": 4,
 "nbformat_minor": 4
}
