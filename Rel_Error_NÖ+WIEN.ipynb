{
 "cells": [
  {
   "cell_type": "code",
   "execution_count": 74,
   "id": "704b5b54",
   "metadata": {},
   "outputs": [],
   "source": [
    "import pandas as pd\n",
    "import geopandas as geo\n",
    "import numpy as np\n",
    "import matplotlib.pyplot as plt\n",
    "from shapely import wkt\n"
   ]
  },
  {
   "cell_type": "code",
   "execution_count": 75,
   "id": "ebec9396",
   "metadata": {},
   "outputs": [],
   "source": [
    "Festnetz = geo.read_file(\"AUTmap_Merged_festnetz.gpkg\")"
   ]
  },
  {
   "cell_type": "code",
   "execution_count": 76,
   "id": "3215595e",
   "metadata": {},
   "outputs": [],
   "source": [
    "Festnetz_gov = geo.read_file(\"festnetz_gov.gpkg\")"
   ]
  },
  {
   "cell_type": "code",
   "execution_count": 77,
   "id": "eea838d2",
   "metadata": {},
   "outputs": [],
   "source": [
    "Festnetz = Festnetz2.drop_duplicates(\"ID\")"
   ]
  },
  {
   "cell_type": "code",
   "execution_count": 78,
   "id": "0be9e88a",
   "metadata": {},
   "outputs": [],
   "source": [
    "Festnetz_gov[\"Download_Max\"] = Festnetz_gov.groupby(\"ID\")[\"download\"].transform(\"max\")"
   ]
  },
  {
   "cell_type": "code",
   "execution_count": 79,
   "id": "e61cfd97",
   "metadata": {},
   "outputs": [],
   "source": [
    "Festnetz_gov[\"Download_Min\"] = Festnetz_gov.groupby(\"ID\")[\"download\"].transform(\"min\")"
   ]
  },
  {
   "cell_type": "code",
   "execution_count": 80,
   "id": "7ebe5f49",
   "metadata": {},
   "outputs": [],
   "source": [
    "Festnetz_gov = Festnetz_gov.drop_duplicates(\"ID\")"
   ]
  },
  {
   "cell_type": "code",
   "execution_count": 81,
   "id": "94043667",
   "metadata": {},
   "outputs": [],
   "source": [
    "Festnetz_gov_merged = pd.merge(Festnetz_gov,Festnetz,on=\"ID\", how=\"left\")"
   ]
  },
  {
   "cell_type": "code",
   "execution_count": 82,
   "id": "fe751035",
   "metadata": {},
   "outputs": [],
   "source": [
    "Festnetz_gov_merged[\"Download_Mean\"] = Festnetz_gov_merged[\"Download_Mean\"].fillna(0)"
   ]
  },
  {
   "cell_type": "code",
   "execution_count": 83,
   "id": "34939907",
   "metadata": {},
   "outputs": [
    {
     "data": {
      "text/plain": [
       "Index(['ID', 'NAME_x', 'l000100v3', 'infrastrukturanbieterin', 'technik',\n",
       "       'download', 'upload', 'bearbeitung_bbb', 'geometry_x', 'Download_Max_x',\n",
       "       'Download_Min', 'NAME_y', 'index_right', 'network_type',\n",
       "       'download_kbit', 'upload_kbit', 'Download_Mean', 'Download_Max_y',\n",
       "       'Download_Median', 'Download_Count', 'geometry_y'],\n",
       "      dtype='object')"
      ]
     },
     "execution_count": 83,
     "metadata": {},
     "output_type": "execute_result"
    }
   ],
   "source": [
    "Festnetz_gov_merged.columns"
   ]
  },
  {
   "cell_type": "code",
   "execution_count": 84,
   "id": "da87b6a1",
   "metadata": {},
   "outputs": [],
   "source": [
    "Festnetz_gov_merged = Festnetz_gov_merged.drop([\"bearbeitung_bbb\",\"geometry_y\"],axis=1)"
   ]
  },
  {
   "cell_type": "code",
   "execution_count": 85,
   "id": "4e7a5040",
   "metadata": {},
   "outputs": [],
   "source": [
    "Festnetz_gov_merged[\"Download_Mean\"] = Festnetz_gov_merged[\"Download_Mean\"].fillna(0)"
   ]
  },
  {
   "cell_type": "code",
   "execution_count": 86,
   "id": "e1583984",
   "metadata": {},
   "outputs": [],
   "source": [
    "Festnetz_gov_merged[\"Download_Max_y\"] = Festnetz_gov_merged[\"Download_Max_y\"].fillna(0)"
   ]
  },
  {
   "cell_type": "code",
   "execution_count": 87,
   "id": "4ad763fa",
   "metadata": {},
   "outputs": [],
   "source": [
    "Festnetz_gov_merged[\"Daten_wurden_verglichen\"] = 0"
   ]
  },
  {
   "cell_type": "code",
   "execution_count": 88,
   "id": "34ab1b31",
   "metadata": {},
   "outputs": [],
   "source": [
    "Festnetz_gov_merged[\"relativerFehler_Max/Mean\"] = (1000*Festnetz_gov_merged[\"Download_Max_x\"] -Festnetz_gov_merged[\"Download_Mean\"] )/(1000*Festnetz_gov_merged[\"Download_Max_x\"])"
   ]
  },
  {
   "cell_type": "code",
   "execution_count": 89,
   "id": "e0923843",
   "metadata": {},
   "outputs": [],
   "source": [
    "Festnetz_gov_merged[\"relativerFehler_Max/Max\"] = (1000*Festnetz_gov_merged[\"Download_Max_x\"] -Festnetz_gov_merged[\"Download_Max_y\"] )/(1000*Festnetz_gov_merged[\"Download_Max_x\"])"
   ]
  },
  {
   "cell_type": "code",
   "execution_count": 90,
   "id": "46119d59",
   "metadata": {},
   "outputs": [],
   "source": [
    "Festnetz_gov_merged[\"relativerFehler_Min/Mean\"] = (1000*Festnetz_gov_merged[\"Download_Min\"] -Festnetz_gov_merged[\"Download_Mean\"] )/(1000*Festnetz_gov_merged[\"Download_Min\"])"
   ]
  },
  {
   "cell_type": "code",
   "execution_count": 91,
   "id": "a5223226",
   "metadata": {},
   "outputs": [],
   "source": [
    "Festnetz_gov_merged[\"relativerFehler_Min/Max\"] = (1000*Festnetz_gov_merged[\"Download_Min\"] -Festnetz_gov_merged[\"Download_Max_y\"] )/(1000*Festnetz_gov_merged[\"Download_Min\"])"
   ]
  },
  {
   "cell_type": "code",
   "execution_count": 92,
   "id": "fe6ab4ec",
   "metadata": {},
   "outputs": [],
   "source": [
    "Festnetz_gov_merged.loc[(Festnetz_gov_merged['download'] > 1)\n",
    "                        &(Festnetz_gov_merged['Download_Mean'] > 1), 'Daten_wurden_verglichen'] = 1"
   ]
  },
  {
   "cell_type": "code",
   "execution_count": 93,
   "id": "40a36551",
   "metadata": {},
   "outputs": [],
   "source": [
    "Festnetz_gov_merged_mitVergleichen = Festnetz_gov_merged[Festnetz_gov_merged[\"Daten_wurden_verglichen\"] != 0]"
   ]
  },
  {
   "cell_type": "code",
   "execution_count": 96,
   "id": "506e7bbd",
   "metadata": {},
   "outputs": [
    {
     "name": "stderr",
     "output_type": "stream",
     "text": [
      "C:\\Users\\Paul\\AppData\\Local\\Temp\\ipykernel_3940\\4190153981.py:1: UserWarning: Boolean Series key will be reindexed to match DataFrame index.\n",
      "  Festnetz_gov_merged_mitVergleichen_Mean = Festnetz_gov_merged_mitVergleichen[Festnetz_gov_merged[\"relativerFehler_Max/Mean\"] > -5]\n"
     ]
    }
   ],
   "source": [
    "Festnetz_gov_merged_mitVergleichen_Mean = Festnetz_gov_merged_mitVergleichen[Festnetz_gov_merged[\"relativerFehler_Max/Mean\"] > -5]"
   ]
  },
  {
   "cell_type": "code",
   "execution_count": 97,
   "id": "c233ea68",
   "metadata": {},
   "outputs": [],
   "source": [
    "gdf2 = geo.GeoDataFrame(\n",
    "    Festnetz_gov_merged_mitVergleichen_Mean, geometry = Festnetz_gov_merged_mitVergleichen_Mean.geometry_x,crs=\"EPSG:31287\" )"
   ]
  },
  {
   "cell_type": "code",
   "execution_count": 98,
   "id": "45d31601",
   "metadata": {},
   "outputs": [],
   "source": [
    "Grenze = pd.read_csv(\"Nö_test2.csv\")"
   ]
  },
  {
   "cell_type": "code",
   "execution_count": 99,
   "id": "addae291",
   "metadata": {},
   "outputs": [],
   "source": [
    "geometry = Grenze[\"WKT\"].apply(wkt.loads)\n",
    "Grenze[\"geometry\"] = Grenze[\"WKT\"].apply(wkt.loads)\n",
    "Grenze = geo.GeoDataFrame(Grenze,geometry =geometry , crs=\"EPSG:31287\")"
   ]
  },
  {
   "cell_type": "code",
   "execution_count": 100,
   "id": "9eba8957",
   "metadata": {},
   "outputs": [],
   "source": [
    "gdf2=gdf2.drop(labels=['index_right'], axis=1)"
   ]
  },
  {
   "cell_type": "code",
   "execution_count": 101,
   "id": "b10e5568",
   "metadata": {},
   "outputs": [],
   "source": [
    "Nö_gdf = geo.sjoin(gdf2, Grenze,how=\"inner\",op=\"intersects\")"
   ]
  },
  {
   "cell_type": "code",
   "execution_count": 102,
   "id": "bc438725",
   "metadata": {},
   "outputs": [],
   "source": [
    "Nö_gdf = Nö_gdf.drop( ['index_right', 'WKT', 'id'], axis=1)"
   ]
  },
  {
   "cell_type": "code",
   "execution_count": 105,
   "id": "3769b2aa",
   "metadata": {},
   "outputs": [],
   "source": [
    "Nö_gdf = Nö_gdf.drop( ['geometry_x'], axis=1)"
   ]
  },
  {
   "cell_type": "code",
   "execution_count": 106,
   "id": "550a152d",
   "metadata": {},
   "outputs": [
    {
     "name": "stderr",
     "output_type": "stream",
     "text": [
      "C:\\Users\\Paul\\anaconda3\\envs\\NewForGeopandas\\lib\\site-packages\\geopandas\\io\\file.py:299: FutureWarning: pandas.Int64Index is deprecated and will be removed from pandas in a future version. Use pandas.Index with the appropriate dtype instead.\n",
      "  pd.Int64Index,\n"
     ]
    }
   ],
   "source": [
    "Nö_gdf.to_file('Festnetz_rel_Errors_NÖ.gpkg', driver='GPKG')  "
   ]
  },
  {
   "cell_type": "code",
   "execution_count": null,
   "id": "f22e1753",
   "metadata": {},
   "outputs": [],
   "source": []
  },
  {
   "cell_type": "code",
   "execution_count": null,
   "id": "4f27c974",
   "metadata": {},
   "outputs": [],
   "source": []
  }
 ],
 "metadata": {
  "kernelspec": {
   "display_name": "Python 3 (ipykernel)",
   "language": "python",
   "name": "python3"
  },
  "language_info": {
   "codemirror_mode": {
    "name": "ipython",
    "version": 3
   },
   "file_extension": ".py",
   "mimetype": "text/x-python",
   "name": "python",
   "nbconvert_exporter": "python",
   "pygments_lexer": "ipython3",
   "version": "3.9.12"
  }
 },
 "nbformat": 4,
 "nbformat_minor": 5
}
