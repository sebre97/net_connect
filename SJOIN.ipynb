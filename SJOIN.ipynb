{
 "cells": [
  {
   "cell_type": "code",
   "execution_count": 45,
   "id": "7bc2fbc3",
   "metadata": {},
   "outputs": [],
   "source": [
    "import geopandas as geo\n",
    "import pandas as pd\n",
    "from shapely.geometry import Point\n",
    "from shapely import wkt\n",
    "import numpy as np\n",
    "from shapely.geometry import Polygon, Point\n",
    "from shapely.strtree import STRtree\n",
    "import numpy as np\n",
    "import time\n",
    "from geopandas import sjoin\n",
    "import gc"
   ]
  },
  {
   "cell_type": "code",
   "execution_count": 46,
   "id": "53a73b37",
   "metadata": {},
   "outputs": [],
   "source": [
    "micro_df = pd.read_csv(\"Micro_250m_mit_Polygon_geometry.csv\", sep=\",\")     "
   ]
  },
  {
   "cell_type": "code",
   "execution_count": 47,
   "id": "811a12d6",
   "metadata": {},
   "outputs": [],
   "source": [
    "micro_df[\"geometry\"] = micro_df[\"WKT\"].apply(wkt.loads)"
   ]
  },
  {
   "cell_type": "code",
   "execution_count": 52,
   "id": "7f8917f4",
   "metadata": {},
   "outputs": [],
   "source": [
    "df = pd.read_csv(\"MergedWithFigures_Merged_ALL.csv\", sep=\",\")"
   ]
  },
  {
   "cell_type": "code",
   "execution_count": 4,
   "id": "807f6966",
   "metadata": {},
   "outputs": [],
   "source": [
    "df = pd.read_csv(\"Raster_austria_Download_AVERAGE.csv\", sep=\",\")"
   ]
  },
  {
   "cell_type": "code",
   "execution_count": 48,
   "id": "f318c9d4",
   "metadata": {},
   "outputs": [],
   "source": [
    "df = pd.read_csv(\"Raster_austria_Download_MAX.csv\", sep=\",\")"
   ]
  },
  {
   "cell_type": "code",
   "execution_count": 18,
   "id": "440daac1",
   "metadata": {},
   "outputs": [],
   "source": [
    "df = pd.read_csv(\"Raster_austria_Download_MIN.csv\", sep=\",\")"
   ]
  },
  {
   "cell_type": "code",
   "execution_count": 49,
   "id": "95aaa37f",
   "metadata": {},
   "outputs": [],
   "source": [
    "df[\"geometry\"] = df[\"geometry\"].apply(wkt.loads)"
   ]
  },
  {
   "cell_type": "code",
   "execution_count": 50,
   "id": "e914c876",
   "metadata": {},
   "outputs": [],
   "source": [
    "gdf = geo.GeoDataFrame(df,crs=\"EPSG:31287\")\n",
    "\n"
   ]
  },
  {
   "cell_type": "code",
   "execution_count": 51,
   "id": "3e4f1b61",
   "metadata": {},
   "outputs": [],
   "source": [
    "micro_gdf = geo.GeoDataFrame(micro_df,crs=\"EPSG:31287\")\n",
    "#micro_gdf.crs = {'init' :'+proj=lcc +lat_0=47.5 +lon_0=13.3333333333333 +lat_1=49 +lat_2=46 +x_0=400000 +y_0=400000 +ellps=bessel +towgs84=577.326,90.129,463.919,5.137,1.474,5.297,2.4232 +units=m +no_defs'}\n"
   ]
  },
  {
   "cell_type": "code",
   "execution_count": 52,
   "id": "08b708b5",
   "metadata": {},
   "outputs": [],
   "source": [
    "micro_gdf[\"geometry2\"] = micro_gdf[\"geometry\"]"
   ]
  },
  {
   "cell_type": "code",
   "execution_count": 53,
   "id": "e6217134",
   "metadata": {},
   "outputs": [],
   "source": [
    "micro_gdf[\"geometry\"] =  micro_gdf.centroid"
   ]
  },
  {
   "cell_type": "code",
   "execution_count": 54,
   "id": "6ea47285",
   "metadata": {},
   "outputs": [],
   "source": [
    "gdf = gdf.drop(labels='index_right',axis=1)"
   ]
  },
  {
   "cell_type": "code",
   "execution_count": 55,
   "id": "14e1d79c",
   "metadata": {},
   "outputs": [],
   "source": [
    "Joined_gdf = geo.sjoin(micro_gdf,gdf, how=\"left\",op=\"intersects\")"
   ]
  },
  {
   "cell_type": "code",
   "execution_count": 56,
   "id": "c412d9de",
   "metadata": {},
   "outputs": [],
   "source": [
    "Joined_gdf[\"geometry\"] = Joined_gdf[\"geometry2\"]"
   ]
  },
  {
   "cell_type": "code",
   "execution_count": 39,
   "id": "7b82cb7f",
   "metadata": {},
   "outputs": [],
   "source": [
    "Joined_gdf.to_csv(\"Micro_raster_Download_MAX.csv\")"
   ]
  },
  {
   "cell_type": "code",
   "execution_count": 40,
   "id": "c62cb2a8",
   "metadata": {},
   "outputs": [
    {
     "data": {
      "text/plain": [
       "0          53571.0\n",
       "1          55401.0\n",
       "2          55401.0\n",
       "3          55401.0\n",
       "4          55401.0\n",
       "            ...   \n",
       "272944    173016.0\n",
       "272945    163626.0\n",
       "272946         0.0\n",
       "272947         0.0\n",
       "272948         0.0\n",
       "Name: download_kbit, Length: 272976, dtype: float64"
      ]
     },
     "execution_count": 40,
     "metadata": {},
     "output_type": "execute_result"
    }
   ],
   "source": [
    "Joined_gdf.download_kbit"
   ]
  },
  {
   "cell_type": "code",
   "execution_count": 121,
   "id": "cafa82c4",
   "metadata": {},
   "outputs": [],
   "source": [
    "df = pd.read_csv(\"Micro_raster_Download_AVERAGE.csv\", sep=\",\")"
   ]
  },
  {
   "cell_type": "code",
   "execution_count": 122,
   "id": "18a30100",
   "metadata": {},
   "outputs": [
    {
     "name": "stderr",
     "output_type": "stream",
     "text": [
      "C:\\Users\\Paul\\AppData\\Local\\Temp\\ipykernel_6424\\1403052727.py:1: FutureWarning: Assigning CRS to a GeoDataFrame without a geometry column is now deprecated and will not be supported in the future.\n",
      "  gdf = geo.GeoDataFrame(df,crs=\"EPSG:31287\")\n"
     ]
    }
   ],
   "source": [
    "gdf = geo.GeoDataFrame(df,crs=\"EPSG:31287\")\n"
   ]
  },
  {
   "cell_type": "code",
   "execution_count": 123,
   "id": "5f66fc4d",
   "metadata": {},
   "outputs": [],
   "source": [
    "gdf = gdf[gdf[\"Download_Mean\"] != 0]"
   ]
  },
  {
   "cell_type": "code",
   "execution_count": 124,
   "id": "99f9c044",
   "metadata": {
    "scrolled": true
   },
   "outputs": [],
   "source": [
    "gdf=gdf.drop(labels=['OBJECTID', 'R_250M', 'MP_X', 'MP_Y', 'HWS11', 'HWS10', 'HWS09',\n",
    "       'HWS06', 'NWS06', 'Geb06', 'WGeb06', 'Whg06', 'Besch01', 'Arbst01',\n",
    "       'HH01', 'M_ALL', 'W_ALL', 'ALL_01', 'ALL_02', 'ALL_03', 'ALL_04',\n",
    "       'ALL_05', 'ALL_06', 'ALL_07', 'ALL_08', 'ALL_09', 'ALL_10', 'ALL_11',\n",
    "       'M_01', 'M_02', 'M_03', 'M_04', 'M_05', 'M_06', 'M_07', 'M_08', 'M_09',\n",
    "       'M_10', 'M_11', 'W_01', 'W_02', 'W_03', 'W_04', 'W_05', 'W_06', 'W_07',\n",
    "       'W_08', 'W_09', 'W_10', 'W_11', 'GEB_AUT', 'GEB_EU', 'GEB_EUN',\n",
    "       'GEB_EUO', 'GEB_EUS', 'GEB_EUW', 'GEB_EXJ', 'GEB_TUR', 'GEB_DEU',\n",
    "       'GEB_AFN', 'GEB_AFS', 'GEB_ASW', 'GEB_ASZ', 'GEB_ASO', 'GEB_AMN',\n",
    "       'GEB_AMS', 'GEB_AUS', 'GEB_XXX', 'STA_AUT', 'STA_EU', 'STA_EUN',\n",
    "       'STA_EUO', 'STA_EUS', 'STA_EUW', 'STA_EXJ', 'STA_TUR', 'STA_DEU',\n",
    "       'STA_AFN', 'STA_AFS', 'STA_ASW', 'STA_ASZ', 'STA_ASO', 'STA_AMN',\n",
    "       'STA_AMS', 'STA_AUS', 'STA_XXX', 'HER_AUT', 'HER_EU', 'HER_EUN',\n",
    "       'HER_EUO', 'HER_EUS', 'HER_EUW', 'HER_EXJ', 'HER_TUR', 'HER_DEU',\n",
    "       'HER_AFN', 'HER_AFS', 'HER_ASW','HER_ASZ', 'HER_ASO', 'HER_AMN', 'HER_AMS',\n",
    "       'HER_AUS', 'HER_XXX', 'ledig', 'verheiratet', 'verwitwet', 'geschieden',\n",
    "       'Bildung_Akademiker', 'Bildung_Matura', 'Bildung_nichtMatura',\n",
    "       'LU_Vollzeit', 'LU_Teilzeit', 'LU_sonstiges', 'PHH_1Pers', 'PHH_2Pers',\n",
    "       'PHH_3plusPers', 'AnstHH', 'Shape_Length', 'Shape_Area', 'geometry',\n",
    "       'geometry2', 'index_right', 'Unnamed: 0', 'id', 'left', 'top', 'right'],axis=1)"
   ]
  },
  {
   "cell_type": "code",
   "execution_count": 125,
   "id": "49baec1c",
   "metadata": {},
   "outputs": [
    {
     "data": {
      "text/plain": [
       "229688"
      ]
     },
     "execution_count": 125,
     "metadata": {},
     "output_type": "execute_result"
    }
   ],
   "source": [
    "len(gdf)"
   ]
  },
  {
   "cell_type": "code",
   "execution_count": 126,
   "id": "17c472ef",
   "metadata": {},
   "outputs": [],
   "source": [
    "gdf = gdf.to_csv(\"Micro_raster_Download_AVERAGE_nonZERO.csv\", sep=\",\")"
   ]
  }
 ],
 "metadata": {
  "kernelspec": {
   "display_name": "Python 3 (ipykernel)",
   "language": "python",
   "name": "python3"
  },
  "language_info": {
   "codemirror_mode": {
    "name": "ipython",
    "version": 3
   },
   "file_extension": ".py",
   "mimetype": "text/x-python",
   "name": "python",
   "nbconvert_exporter": "python",
   "pygments_lexer": "ipython3",
   "version": "3.9.12"
  }
 },
 "nbformat": 4,
 "nbformat_minor": 5
}
