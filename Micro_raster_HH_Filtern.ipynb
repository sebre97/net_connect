{
 "cells": [
  {
   "cell_type": "code",
   "execution_count": 1,
   "id": "acee17e8",
   "metadata": {},
   "outputs": [],
   "source": [
    "import geopandas as geo\n",
    "import pandas as pd\n",
    "from shapely.geometry import Point\n",
    "from shapely import wkt\n",
    "import numpy as np\n",
    "from shapely.geometry import Polygon, Point\n",
    "from shapely.strtree import STRtree\n",
    "import numpy as np\n",
    "import time\n",
    "from geopandas import sjoin\n",
    "import gc"
   ]
  },
  {
   "cell_type": "code",
   "execution_count": 6,
   "id": "807b8e3b",
   "metadata": {},
   "outputs": [],
   "source": [
    "gdf = pd.read_csv(\"Micro_raster_Download_AVERAGE.csv\")"
   ]
  },
  {
   "cell_type": "code",
   "execution_count": null,
   "id": "8a23e790",
   "metadata": {},
   "outputs": [],
   "source": [
    "#Teilnehmer brauchen ungefähr 4 Mbits/s DOWNLOAD für Video Konferenzen mit guter Qualität"
   ]
  },
  {
   "cell_type": "code",
   "execution_count": null,
   "id": "7dc4a1fb",
   "metadata": {},
   "outputs": [],
   "source": [
    "# Durchschnittliche Haushaltsgröße ~ 2.2 "
   ]
  },
  {
   "cell_type": "code",
   "execution_count": null,
   "id": "4b649000",
   "metadata": {},
   "outputs": [],
   "source": [
    "#Zoom Website\n",
    "#Für Videoanrufe mit zwei Teilnehmern:\n",
    "#Für qualitativ hochwertiges Video: 600 KBit/s (Upload/Download)\n",
    "#Für 720p HD-Video: 1,2 MBit/s (Upload/Download)\n",
    "#Für 1080p HD-Video: 3,8 MBit/s bzw. 3,0 MBit/s (Upload/Download)\n",
    "#Für Videoanrufe mit Gruppen:\n",
    "   #Für qualitativ hochwertiges Video: 1,0 MBit/s bzw. 600 KBit/s (Upload/Download)<---------------------------------------\n",
    "#Für 720p HD-Video: 2,6 MBit/s bzw. 1,8 MBit/s (Upload/Download)\n",
    "   #Für 1080p HD-Video: 3,8 MBit/s bzw. 3,0 MBit/s (Upload/Download)<---------------------------------------\n",
    "#Für Empfang der Galerieansicht: 2,0 MBit/s (25 Ansichten), 4,0 MBit/s (49 Ansichten)\n"
   ]
  },
  {
   "cell_type": "code",
   "execution_count": null,
   "id": "577af109",
   "metadata": {},
   "outputs": [],
   "source": []
  },
  {
   "cell_type": "code",
   "execution_count": 15,
   "id": "517e684e",
   "metadata": {},
   "outputs": [
    {
     "data": {
      "text/plain": [
       "Index(['M_11', 'W_01', 'W_02', 'W_03', 'W_04', 'W_05', 'W_06', 'W_07', 'W_08',\n",
       "       'W_09',\n",
       "       ...\n",
       "       'platform', 'model', 'network_name', 'ndt_download_kbit',\n",
       "       'ndt_upload_kbit', 'signal_strength', 'pinned', 'dtm_level',\n",
       "       'signal_classification', 'Download_Mean'],\n",
       "      dtype='object', length=106)"
      ]
     },
     "execution_count": 15,
     "metadata": {},
     "output_type": "execute_result"
    }
   ],
   "source": [
    "gdf.columns[40:146]"
   ]
  },
  {
   "cell_type": "code",
   "execution_count": 8,
   "id": "fc1b730f",
   "metadata": {},
   "outputs": [],
   "source": [
    "gdf[\"Durchschnittliche_Haushaltsgröße\"] = 0"
   ]
  },
  {
   "cell_type": "code",
   "execution_count": 39,
   "id": "2f31310e",
   "metadata": {},
   "outputs": [],
   "source": [
    "gdf.loc[gdf[\"HWS11\"] !=0 ,\"Durchschnittliche_Haushaltsgröße\"] = 2.2"
   ]
  },
  {
   "cell_type": "code",
   "execution_count": 162,
   "id": "85651516",
   "metadata": {},
   "outputs": [],
   "source": [
    "#gdf.loc[((gdf[\"PHH_1Pers\"] + gdf[\"PHH_2Pers\"]  + gdf[\"PHH_3plusPers\"]) !=0), \n",
    "#        \"Durchschnittliche_Haushaltsgröße\"] =  gdf[\"HWS11\"] /  ( gdf[\"PHH_1Pers\"] + gdf[\"PHH_2Pers\"]  + gdf[\"PHH_3plusPers\"] ) \n",
    "    "
   ]
  },
  {
   "cell_type": "code",
   "execution_count": 40,
   "id": "80ced4fe",
   "metadata": {},
   "outputs": [],
   "source": [
    "gdf[\"Download_Zoom_Indicator_HH_normalCALL\"] = 0"
   ]
  },
  {
   "cell_type": "code",
   "execution_count": 41,
   "id": "31b0c642",
   "metadata": {},
   "outputs": [],
   "source": [
    "gdf.loc[(gdf[\"Download_Mean\"] < 600*gdf[\"Durchschnittliche_Haushaltsgröße\"]) \n",
    "        &(gdf[\"Durchschnittliche_Haushaltsgröße\"]!=0), \"Download_Zoom_Indicator_HH_normalCALL\"] = 3"
   ]
  },
  {
   "cell_type": "code",
   "execution_count": 42,
   "id": "75cfec3d",
   "metadata": {},
   "outputs": [],
   "source": [
    "gdf.loc[(gdf[\"Download_Mean\"] > 600*gdf[\"Durchschnittliche_Haushaltsgröße\"]) \n",
    "        & (gdf[\"Download_Mean\"] < 1200*gdf[\"Durchschnittliche_Haushaltsgröße\"])\n",
    "        &(gdf[\"Durchschnittliche_Haushaltsgröße\"]!=0), \"Download_Zoom_Indicator_HH_normalCALL\"] = 2"
   ]
  },
  {
   "cell_type": "code",
   "execution_count": 43,
   "id": "3bafc536",
   "metadata": {},
   "outputs": [],
   "source": [
    "gdf.loc[(gdf[\"Download_Mean\"] > 1200*gdf[\"Durchschnittliche_Haushaltsgröße\"])\n",
    "        &(gdf[\"Durchschnittliche_Haushaltsgröße\"]!=0), \"Download_Zoom_Indicator_HH_normalCALL\"] = 1"
   ]
  },
  {
   "cell_type": "code",
   "execution_count": 50,
   "id": "605cfd90",
   "metadata": {},
   "outputs": [
    {
     "data": {
      "text/plain": [
       "[189312, 6818, 10320]"
      ]
     },
     "execution_count": 50,
     "metadata": {},
     "output_type": "execute_result"
    }
   ],
   "source": [
    "[sum(gdf[\"Download_Zoom_Indicator_HH_gewichtet\"] ==1), \n",
    "sum(gdf[\"Download_Zoom_Indicator_HH_gewichtet\"] ==2),\n",
    "sum(gdf[\"Download_Zoom_Indicator_HH_gewichtet\"] ==3)]"
   ]
  },
  {
   "cell_type": "code",
   "execution_count": 49,
   "id": "9baf7f5e",
   "metadata": {},
   "outputs": [
    {
     "data": {
      "text/plain": [
       "[160016, 17968, 28463]"
      ]
     },
     "execution_count": 49,
     "metadata": {},
     "output_type": "execute_result"
    }
   ],
   "source": [
    "[sum(gdf[\"Download_Zoom_Indicator_HH4Pers_gewichtet\"] ==1), \n",
    "sum(gdf[\"Download_Zoom_Indicator_HH4Pers_gewichtet\"] ==2),\n",
    "sum(gdf[\"Download_Zoom_Indicator_HH4Pers_gewichtet\"] ==3)]"
   ]
  },
  {
   "cell_type": "code",
   "execution_count": 48,
   "id": "6c6f399f",
   "metadata": {},
   "outputs": [
    {
     "data": {
      "text/plain": [
       "[204273, 1243, 934]"
      ]
     },
     "execution_count": 48,
     "metadata": {},
     "output_type": "execute_result"
    }
   ],
   "source": [
    "[sum(gdf[\"Download_Zoom_Indicator_HH_normalCALL\"] ==1), \n",
    "sum(gdf[\"Download_Zoom_Indicator_HH_normalCALL\"] ==2),\n",
    "sum(gdf[\"Download_Zoom_Indicator_HH_normalCALL\"] ==3)]"
   ]
  },
  {
   "cell_type": "code",
   "execution_count": 51,
   "id": "c05686bd",
   "metadata": {},
   "outputs": [],
   "source": [
    "gdf = gdf.drop(labels = ['HWS10', 'HWS09',\n",
    "       'HWS06', 'NWS06', 'Geb06', 'WGeb06', 'Whg06', 'Besch01', 'Arbst01',\n",
    "       'HH01', 'M_ALL', 'W_ALL', 'ALL_01', 'ALL_02', 'ALL_03', 'ALL_04',\n",
    "       'ALL_05', 'ALL_06', 'ALL_07', 'ALL_08', 'ALL_09', 'ALL_10', 'ALL_11',\n",
    "       'M_01', 'M_02', 'M_03', 'M_04', 'M_05', 'M_06', 'M_07', 'M_08', 'M_09',\n",
    "       'M_10', 'M_11', 'W_01', 'W_02', 'W_03', 'W_04', 'W_05', 'W_06', 'W_07',\n",
    "       'W_08', 'W_09', 'W_10', 'W_11', 'GEB_AUT', 'GEB_EU', 'GEB_EUN',\n",
    "       'GEB_EUO', 'GEB_EUS', 'GEB_EUW', 'GEB_EXJ', 'GEB_TUR', 'GEB_DEU',\n",
    "       'GEB_AFN', 'GEB_AFS', 'GEB_ASW', 'GEB_ASZ', 'GEB_ASO', 'GEB_AMN',\n",
    "       'GEB_AMS', 'GEB_AUS', 'GEB_XXX', 'STA_AUT', 'STA_EU', 'STA_EUN',\n",
    "       'STA_EUO', 'STA_EUS', 'STA_EUW', 'STA_EXJ', 'STA_TUR', 'STA_DEU',\n",
    "       'STA_AFN', 'STA_AFS', 'STA_ASW', 'STA_ASZ', 'STA_ASO', 'STA_AMN',\n",
    "       'STA_AMS', 'STA_AUS', 'STA_XXX', 'HER_AUT', 'HER_EU', 'HER_EUN',\n",
    "       'HER_EUO', 'HER_EUS', 'HER_EUW', 'HER_EXJ', 'HER_TUR', 'HER_DEU',\n",
    "       'HER_AFN', 'HER_AFS', 'HER_ASW','HER_ASZ', 'HER_ASO', 'HER_AMN', 'HER_AMS', 'HER_AUS',\n",
    "       'HER_XXX', 'ledig', 'verheiratet', 'verwitwet', 'geschieden',\n",
    "       'Bildung_Akademiker', 'Bildung_Matura', 'Bildung_nichtMatura'], axis =1)"
   ]
  },
  {
   "cell_type": "code",
   "execution_count": 46,
   "id": "0d39c297",
   "metadata": {},
   "outputs": [],
   "source": [
    "gdf = gdf[gdf[\"Download_Mean\"] != 0]"
   ]
  },
  {
   "cell_type": "code",
   "execution_count": 52,
   "id": "9d498d0a",
   "metadata": {},
   "outputs": [],
   "source": [
    "Grenze = pd.read_csv(\"Nö_test2.csv\")"
   ]
  },
  {
   "cell_type": "code",
   "execution_count": 54,
   "id": "a372a38e",
   "metadata": {},
   "outputs": [],
   "source": [
    "geometry = Grenze[\"WKT\"].apply(wkt.loads)\n",
    "Grenze[\"geometry\"] = Grenze[\"WKT\"].apply(wkt.loads)\n",
    "Grenze = geo.GeoDataFrame(Grenze,geometry =geometry , crs=\"EPSG:31287\")"
   ]
  },
  {
   "cell_type": "code",
   "execution_count": 58,
   "id": "b0469a99",
   "metadata": {},
   "outputs": [],
   "source": [
    "gdf[\"geometry\"] = gdf[\"WKT\"].apply(wkt.loads)\n",
    "gdf = geo.GeoDataFrame(gdf,geometry =gdf[\"geometry\"] , crs=\"EPSG:31287\")"
   ]
  },
  {
   "cell_type": "code",
   "execution_count": 60,
   "id": "87cb1fa0",
   "metadata": {},
   "outputs": [],
   "source": [
    "gdf=gdf.drop(labels=['index_right'], axis=1)"
   ]
  },
  {
   "cell_type": "code",
   "execution_count": 61,
   "id": "c4cc687d",
   "metadata": {},
   "outputs": [],
   "source": [
    "Nö_gdf = geo.sjoin(gdf, Grenze,how=\"inner\",op=\"intersects\")"
   ]
  },
  {
   "cell_type": "code",
   "execution_count": 62,
   "id": "b278492c",
   "metadata": {
    "scrolled": true
   },
   "outputs": [],
   "source": [
    "Nö_gdf.to_csv(\"Micro_raster_Zoom_Indikatoren_HH_NÖ+WIEN.csv\")"
   ]
  },
  {
   "cell_type": "code",
   "execution_count": null,
   "id": "01a16c89",
   "metadata": {},
   "outputs": [],
   "source": [
    "gdf.to_csv(\"Micro_raster_Zoom_Indikatoren_HH.csv\")"
   ]
  }
 ],
 "metadata": {
  "kernelspec": {
   "display_name": "Python 3 (ipykernel)",
   "language": "python",
   "name": "python3"
  },
  "language_info": {
   "codemirror_mode": {
    "name": "ipython",
    "version": 3
   },
   "file_extension": ".py",
   "mimetype": "text/x-python",
   "name": "python",
   "nbconvert_exporter": "python",
   "pygments_lexer": "ipython3",
   "version": "3.9.12"
  }
 },
 "nbformat": 4,
 "nbformat_minor": 5
}
