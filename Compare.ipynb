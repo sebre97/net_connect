{
 "cells": [
  {
   "cell_type": "code",
   "execution_count": 1,
   "id": "bad4507b",
   "metadata": {},
   "outputs": [],
   "source": [
    "import pandas as pd\n",
    "import geopandas as geo\n",
    "import numpy as np\n",
    "import matplotlib.pyplot as plt"
   ]
  },
  {
   "cell_type": "code",
   "execution_count": 40,
   "id": "037a2445",
   "metadata": {},
   "outputs": [],
   "source": [
    " #Festnetz_gov nimmt maximum gerundet über alle verfügbaren Techniken/Anbieter"
   ]
  },
  {
   "cell_type": "code",
   "execution_count": 41,
   "id": "eb9a9ff3",
   "metadata": {},
   "outputs": [],
   "source": [
    "Festnetz = geo.read_file(\"AUTmap_Merged_festnetz.gpkg\")"
   ]
  },
  {
   "cell_type": "code",
   "execution_count": 42,
   "id": "3951d9c7",
   "metadata": {},
   "outputs": [],
   "source": [
    "Festnetz_gov = geo.read_file(\"festnetz_gov.gpkg\")"
   ]
  },
  {
   "cell_type": "code",
   "execution_count": 43,
   "id": "c1a1b100",
   "metadata": {},
   "outputs": [],
   "source": [
    "Festnetz = Festnetz.drop_duplicates(\"ID\")"
   ]
  },
  {
   "cell_type": "code",
   "execution_count": 44,
   "id": "182c9ebb",
   "metadata": {},
   "outputs": [],
   "source": [
    "Festnetz_gov[\"Download_Max\"] = Festnetz_gov.groupby(\"ID\")[\"download\"].transform(\"max\")"
   ]
  },
  {
   "cell_type": "code",
   "execution_count": 45,
   "id": "4c1256a6",
   "metadata": {},
   "outputs": [],
   "source": [
    "Festnetz_gov = Festnetz_gov.drop_duplicates(\"ID\")"
   ]
  },
  {
   "cell_type": "code",
   "execution_count": 46,
   "id": "083a880b",
   "metadata": {},
   "outputs": [],
   "source": [
    "Types_mobile =[\"LTE\", \"HSPA+\",\"CELLULAR_ANY\"]\n",
    "Types =[\"WLAN\",\"LAN\",\"LTE\",\"HSPA+\",\"CELLULAR_ANY\"]\n",
    "Types_festnetz = [\"WLAN\",\"LAN\"]"
   ]
  },
  {
   "cell_type": "code",
   "execution_count": 47,
   "id": "8d6b738a",
   "metadata": {},
   "outputs": [],
   "source": [
    "Festnetz_gov_merged = pd.merge(Festnetz_gov,Festnetz,on=\"ID\", how=\"left\")"
   ]
  },
  {
   "cell_type": "code",
   "execution_count": 48,
   "id": "b6063923",
   "metadata": {},
   "outputs": [],
   "source": [
    "Festnetz_gov_merged[\"Download_Mean\"] = Festnetz_gov_merged[\"Download_Mean\"].fillna(0)"
   ]
  },
  {
   "cell_type": "code",
   "execution_count": 49,
   "id": "5b34d154",
   "metadata": {},
   "outputs": [],
   "source": [
    "Festnetz_gov_merged[\"Download_Max_y\"] = Festnetz_gov_merged[\"Download_Max_y\"].fillna(0)"
   ]
  },
  {
   "cell_type": "code",
   "execution_count": 50,
   "id": "08f655d3",
   "metadata": {},
   "outputs": [],
   "source": [
    "Festnetz_gov_merged[\"Daten_wurden_verglichen\"] = 0"
   ]
  },
  {
   "cell_type": "code",
   "execution_count": 51,
   "id": "36057447",
   "metadata": {},
   "outputs": [],
   "source": [
    "Festnetz_gov_merged[\"relativerFehler_Mean\"] = (1000*Festnetz_gov_merged[\"download\"] -Festnetz_gov_merged[\"Download_Mean\"] )/(1000*Festnetz_gov_merged[\"download\"])"
   ]
  },
  {
   "cell_type": "code",
   "execution_count": 52,
   "id": "e65c16b2",
   "metadata": {},
   "outputs": [],
   "source": [
    "Festnetz_gov_merged[\"relativerFehler_Max\"] = (1000*Festnetz_gov_merged[\"download\"] -Festnetz_gov_merged[\"Download_Max_y\"] )/(1000*Festnetz_gov_merged[\"download\"])"
   ]
  },
  {
   "cell_type": "code",
   "execution_count": 53,
   "id": "cf806705",
   "metadata": {},
   "outputs": [],
   "source": [
    "Festnetz_gov_merged.loc[(Festnetz_gov_merged['download'] > 0)\n",
    "                        &(Festnetz_gov_merged['Download_Mean'] > 0), 'Daten_wurden_verglichen'] = 1"
   ]
  },
  {
   "cell_type": "code",
   "execution_count": 54,
   "id": "6dad6740",
   "metadata": {},
   "outputs": [],
   "source": [
    "#Festnetz_gov_merged_mitVergleichen = Festnetz_gov_merged[Festnetz_gov_merged[\"Daten_wurden_verglichen\"] != 0]"
   ]
  },
  {
   "cell_type": "code",
   "execution_count": 55,
   "id": "2ae33429",
   "metadata": {},
   "outputs": [],
   "source": [
    "#count = column[column > limit].count()"
   ]
  },
  {
   "cell_type": "code",
   "execution_count": 56,
   "id": "be0ccf6c",
   "metadata": {},
   "outputs": [],
   "source": [
    "#Festnetz_gov_merged_mitVergleichen.relativerFehler_Mean[Festnetz_gov_merged_mitVergleichen.relativerFehler_Mean > -5].count()"
   ]
  },
  {
   "cell_type": "code",
   "execution_count": 57,
   "id": "3fd74dfb",
   "metadata": {},
   "outputs": [],
   "source": [
    "#Festnetz_gov_merged_mitVergleichen_Mean = Festnetz_gov_merged_mitVergleichen[Festnetz_gov_merged[\"relativerFehler_Mean\"] > -5]"
   ]
  },
  {
   "cell_type": "code",
   "execution_count": 58,
   "id": "278ee33e",
   "metadata": {},
   "outputs": [],
   "source": [
    "#Festnetz_gov_merged_mitVergleichen_Max = Festnetz_gov_merged_mitVergleichen[Festnetz_gov_merged[\"relativerFehler_Max\"] > -5]"
   ]
  },
  {
   "cell_type": "code",
   "execution_count": 59,
   "id": "83a8c724",
   "metadata": {},
   "outputs": [],
   "source": [
    "#gdf1 = geo.GeoDataFrame(\n",
    " #   Festnetz_gov_merged)\n"
   ]
  },
  {
   "cell_type": "code",
   "execution_count": 60,
   "id": "e4905a05",
   "metadata": {},
   "outputs": [],
   "source": [
    "gdf2 = geo.GeoDataFrame(\n",
    "    Festnetz_gov_merged, geometry = Festnetz_gov_merged.geometry_x )\n"
   ]
  },
  {
   "cell_type": "code",
   "execution_count": 61,
   "id": "b4ef547e",
   "metadata": {},
   "outputs": [
    {
     "data": {
      "text/plain": [
       "Index(['ID', 'NAME_x', 'l000100v3', 'infrastrukturanbieterin', 'technik',\n",
       "       'download', 'upload', 'bearbeitung_bbb', 'geometry_x', 'Download_Max_x',\n",
       "       'NAME_y', 'index_right', 'network_type', 'download_kbit', 'upload_kbit',\n",
       "       'Download_Mean', 'Download_Max_y', 'Download_Median', 'Download_Count',\n",
       "       'geometry_y', 'Daten_wurden_verglichen', 'relativerFehler_Mean',\n",
       "       'relativerFehler_Max'],\n",
       "      dtype='object')"
      ]
     },
     "execution_count": 61,
     "metadata": {},
     "output_type": "execute_result"
    }
   ],
   "source": [
    "gdf2.columns"
   ]
  },
  {
   "cell_type": "code",
   "execution_count": null,
   "id": "f872c37c",
   "metadata": {
    "scrolled": true
   },
   "outputs": [],
   "source": [
    "del gdf2[\"geometry_x\"]"
   ]
  },
  {
   "cell_type": "code",
   "execution_count": 62,
   "id": "0fa66bca",
   "metadata": {},
   "outputs": [],
   "source": [
    "del gdf2[\"geometry_y\"]"
   ]
  },
  {
   "cell_type": "code",
   "execution_count": 63,
   "id": "0bd37486",
   "metadata": {
    "scrolled": true
   },
   "outputs": [
    {
     "name": "stderr",
     "output_type": "stream",
     "text": [
      "C:\\Users\\Paul\\anaconda3\\envs\\NewForGeopandas\\lib\\site-packages\\geopandas\\io\\file.py:299: FutureWarning: pandas.Int64Index is deprecated and will be removed from pandas in a future version. Use pandas.Index with the appropriate dtype instead.\n",
      "  pd.Int64Index,\n"
     ]
    }
   ],
   "source": [
    "gdf2.to_file('festnetz_gov_relERROR_Mean.gpkg', driver='GPKG')  "
   ]
  },
  {
   "cell_type": "code",
   "execution_count": 64,
   "id": "75b10da2",
   "metadata": {},
   "outputs": [],
   "source": [
    "#gdf2.to_file('festnetz_gov_relERROR_Max.gpkg', driver='GPKG', layer='Festnetz_Gov')  "
   ]
  },
  {
   "cell_type": "code",
   "execution_count": 65,
   "id": "94ec39fe",
   "metadata": {},
   "outputs": [],
   "source": [
    "#gdf2 = geo.read_file(\"festnetz_gov_relERROR_Max.gpkg\")"
   ]
  },
  {
   "cell_type": "code",
   "execution_count": 66,
   "id": "e6fec48f",
   "metadata": {},
   "outputs": [
    {
     "data": {
      "text/plain": [
       "Index(['ID', 'NAME_x', 'l000100v3', 'infrastrukturanbieterin', 'technik',\n",
       "       'download', 'upload', 'bearbeitung_bbb', 'geometry_x', 'Download_Max_x',\n",
       "       'NAME_y', 'index_right', 'network_type', 'download_kbit', 'upload_kbit',\n",
       "       'Download_Mean', 'Download_Max_y', 'Download_Median', 'Download_Count',\n",
       "       'Daten_wurden_verglichen', 'relativerFehler_Mean',\n",
       "       'relativerFehler_Max'],\n",
       "      dtype='object')"
      ]
     },
     "execution_count": 66,
     "metadata": {},
     "output_type": "execute_result"
    }
   ],
   "source": [
    "gdf2.columns"
   ]
  },
  {
   "cell_type": "code",
   "execution_count": null,
   "id": "c203456e",
   "metadata": {},
   "outputs": [],
   "source": []
  },
  {
   "cell_type": "code",
   "execution_count": 81,
   "id": "afd76eb9",
   "metadata": {},
   "outputs": [],
   "source": [
    "gdf2[ 'download'] = gdf2[ 'download'] * 1000"
   ]
  },
  {
   "cell_type": "code",
   "execution_count": 97,
   "id": "e0e90cea",
   "metadata": {},
   "outputs": [],
   "source": [
    "bins = pd.IntervalIndex.from_tuples([(0, 10000), (10000, 30000), (30000, 100000), (100000, 1000000), (1000000, 10000000)],  closed='left')\n",
    "labels=[1, 2, 3, 4, 5]\n",
    "gdf2['download_gov_class'] = pd.cut(gdf2['download'], bins, labels=labels)"
   ]
  },
  {
   "cell_type": "code",
   "execution_count": 98,
   "id": "f8868137",
   "metadata": {},
   "outputs": [],
   "source": [
    "gdf2['download_rtr_class'] = pd.cut(gdf2['Download_Mean'], bins, labels=labels)"
   ]
  },
  {
   "cell_type": "code",
   "execution_count": 93,
   "id": "56810cd7",
   "metadata": {},
   "outputs": [
    {
     "data": {
      "text/plain": [
       "[100000, 1000000)      201234\n",
       "[10000, 30000)         172219\n",
       "[30000, 100000)        170917\n",
       "[0, 10000)              74546\n",
       "[1000000, 10000000)     52282\n",
       "Name: download_gov_class, dtype: int64"
      ]
     },
     "execution_count": 93,
     "metadata": {},
     "output_type": "execute_result"
    }
   ],
   "source": [
    "gdf2['download_gov_class'].value_counts()"
   ]
  },
  {
   "cell_type": "code",
   "execution_count": 99,
   "id": "c159f729",
   "metadata": {},
   "outputs": [
    {
     "data": {
      "text/plain": [
       "[0, 10000)             522370\n",
       "[10000, 30000)          85882\n",
       "[30000, 100000)         56816\n",
       "[100000, 1000000)        6519\n",
       "[1000000, 10000000)         2\n",
       "Name: download_rtr_class, dtype: int64"
      ]
     },
     "execution_count": 99,
     "metadata": {},
     "output_type": "execute_result"
    }
   ],
   "source": [
    "gdf2['download_rtr_class'].value_counts()"
   ]
  },
  {
   "cell_type": "code",
   "execution_count": null,
   "id": "1dbe74e1",
   "metadata": {},
   "outputs": [],
   "source": []
  },
  {
   "cell_type": "code",
   "execution_count": 105,
   "id": "49db65f8",
   "metadata": {},
   "outputs": [
    {
     "data": {
      "text/plain": [
       "0         0\n",
       "1         0\n",
       "2         0\n",
       "3         0\n",
       "4         0\n",
       "         ..\n",
       "671584    0\n",
       "671585    0\n",
       "671586    0\n",
       "671587    0\n",
       "671588    0\n",
       "Length: 671589, dtype: int8"
      ]
     },
     "execution_count": 105,
     "metadata": {},
     "output_type": "execute_result"
    }
   ],
   "source": [
    "gdf2['download_rtr_class'].cat.codes"
   ]
  },
  {
   "cell_type": "code",
   "execution_count": 106,
   "id": "7481630d",
   "metadata": {},
   "outputs": [],
   "source": [
    "from sklearn.preprocessing import LabelEncoder\n",
    "\n",
    "LE = LabelEncoder()\n"
   ]
  },
  {
   "cell_type": "code",
   "execution_count": 113,
   "id": "d08b632c",
   "metadata": {},
   "outputs": [],
   "source": [
    "gdf2['download_class_dif'] = LE.fit_transform(gdf2['download_rtr_class']) - LE.fit_transform(gdf2['download_gov_class'])\n"
   ]
  },
  {
   "cell_type": "code",
   "execution_count": 118,
   "id": "2a534162",
   "metadata": {},
   "outputs": [
    {
     "data": {
      "text/plain": [
       "-1    198210\n",
       "-2    177443\n",
       "-3    148322\n",
       " 0     97002\n",
       "-4     32814\n",
       " 1     14117\n",
       " 2      3193\n",
       "-5       301\n",
       " 3       187\n",
       "Name: download_class_dif, dtype: int64"
      ]
     },
     "execution_count": 118,
     "metadata": {},
     "output_type": "execute_result"
    }
   ],
   "source": [
    "gdf2['download_class_dif'].value_counts()"
   ]
  },
  {
   "cell_type": "code",
   "execution_count": 121,
   "id": "981d8b2b",
   "metadata": {},
   "outputs": [
    {
     "name": "stderr",
     "output_type": "stream",
     "text": [
      "C:\\Users\\Paul\\anaconda3\\envs\\NewForGeopandas\\lib\\site-packages\\geopandas\\io\\file.py:299: FutureWarning: pandas.Int64Index is deprecated and will be removed from pandas in a future version. Use pandas.Index with the appropriate dtype instead.\n",
      "  pd.Int64Index,\n"
     ]
    }
   ],
   "source": [
    "gdf2.drop(['download_rtr_class','download_gov_class'], axis = 1).to_file('festnetz_gov_relERROR_Mean.gpkg', driver='GPKG')  "
   ]
  },
  {
   "cell_type": "code",
   "execution_count": null,
   "id": "3077bc0d",
   "metadata": {},
   "outputs": [],
   "source": []
  },
  {
   "cell_type": "code",
   "execution_count": 130,
   "id": "de621511",
   "metadata": {},
   "outputs": [],
   "source": [
    "masten = geo.read_file(\"Mobilfunksender/opencellid.gpkg\", crs = \"EPSG:4326\")"
   ]
  },
  {
   "cell_type": "code",
   "execution_count": 132,
   "id": "5256302f",
   "metadata": {},
   "outputs": [],
   "source": [
    "masten = geo.GeoDataFrame(\n",
    "    masten, geometry=geo.points_from_xy(masten.lon,masten.lat),crs=\"EPSG:4326\")"
   ]
  },
  {
   "cell_type": "code",
   "execution_count": 127,
   "id": "1b978e55",
   "metadata": {},
   "outputs": [],
   "source": [
    "masten = masten.drop_duplicates(\"cell\")"
   ]
  },
  {
   "cell_type": "code",
   "execution_count": 128,
   "id": "33832e4d",
   "metadata": {},
   "outputs": [
    {
     "name": "stderr",
     "output_type": "stream",
     "text": [
      "C:\\Users\\Paul\\anaconda3\\envs\\NewForGeopandas\\lib\\site-packages\\geopandas\\io\\file.py:299: FutureWarning: pandas.Int64Index is deprecated and will be removed from pandas in a future version. Use pandas.Index with the appropriate dtype instead.\n",
      "  pd.Int64Index,\n"
     ]
    }
   ],
   "source": [
    "masten.to_file('Mobilfunksender/Masten_geomertry.gpkg', driver='GPKG')  "
   ]
  },
  {
   "cell_type": "code",
   "execution_count": 129,
   "id": "071cba8f",
   "metadata": {},
   "outputs": [
    {
     "data": {
      "text/plain": [
       "238505"
      ]
     },
     "execution_count": 129,
     "metadata": {},
     "output_type": "execute_result"
    }
   ],
   "source": [
    "len(masten)\n"
   ]
  },
  {
   "cell_type": "code",
   "execution_count": 2,
   "id": "7576ef05",
   "metadata": {},
   "outputs": [],
   "source": [
    "Festnetz = geo.read_file(\"festnetz_gov_relERROR_Mean.gpkg\")"
   ]
  },
  {
   "cell_type": "code",
   "execution_count": 3,
   "id": "97814a2d",
   "metadata": {},
   "outputs": [
    {
     "data": {
      "text/plain": [
       "Index(['ID', 'NAME_x', 'l000100v3', 'infrastrukturanbieterin', 'technik',\n",
       "       'download', 'upload', 'bearbeitung_bbb', 'Download_Max_x', 'NAME_y',\n",
       "       'index_right', 'network_type', 'download_kbit', 'upload_kbit',\n",
       "       'Download_Mean', 'Download_Max_y', 'Download_Median', 'Download_Count',\n",
       "       'Daten_wurden_verglichen', 'relativerFehler_Mean',\n",
       "       'relativerFehler_Max', 'download_class_dif', 'geometry'],\n",
       "      dtype='object')"
      ]
     },
     "execution_count": 3,
     "metadata": {},
     "output_type": "execute_result"
    }
   ],
   "source": [
    "Festnetz.columns"
   ]
  },
  {
   "cell_type": "code",
   "execution_count": 5,
   "id": "5bdf4427",
   "metadata": {},
   "outputs": [],
   "source": [
    "Festnetz = Festnetz[(Festnetz[\"Download_Mean\"] != 0) & (Festnetz[\"download\"] != 0)]"
   ]
  },
  {
   "cell_type": "code",
   "execution_count": 7,
   "id": "107aa444",
   "metadata": {},
   "outputs": [
    {
     "name": "stderr",
     "output_type": "stream",
     "text": [
      "C:\\Users\\Paul\\anaconda3\\envs\\NewForGeopandas\\lib\\site-packages\\geopandas\\io\\file.py:299: FutureWarning: pandas.Int64Index is deprecated and will be removed from pandas in a future version. Use pandas.Index with the appropriate dtype instead.\n",
      "  pd.Int64Index,\n"
     ]
    }
   ],
   "source": [
    "Festnetz.to_file('festnetz_gov_relERROR_Mean_cleaned.gpkg', driver='GPKG')"
   ]
  },
  {
   "cell_type": "code",
   "execution_count": 15,
   "id": "675291f4",
   "metadata": {},
   "outputs": [
    {
     "data": {
      "text/plain": [
       "-1    31.811921\n",
       "-2    27.883868\n",
       " 0    18.474014\n",
       "-3    10.938413\n",
       " 1     7.566151\n",
       " 2     1.711321\n",
       "-4     1.505512\n",
       " 3     0.100225\n",
       "-5     0.008575\n",
       "Name: download_class_dif, dtype: float64"
      ]
     },
     "execution_count": 15,
     "metadata": {},
     "output_type": "execute_result"
    }
   ],
   "source": [
    "Festnetz['download_class_dif'].value_counts()/len(Festnetz)*100"
   ]
  },
  {
   "cell_type": "code",
   "execution_count": 16,
   "id": "74a12d2e",
   "metadata": {},
   "outputs": [
    {
     "data": {
      "text/plain": [
       "-1    59355\n",
       "-2    52026\n",
       " 0    34469\n",
       "-3    20409\n",
       " 1    14117\n",
       " 2     3193\n",
       "-4     2809\n",
       " 3      187\n",
       "-5       16\n",
       "Name: download_class_dif, dtype: int64"
      ]
     },
     "execution_count": 16,
     "metadata": {},
     "output_type": "execute_result"
    }
   ],
   "source": [
    "Festnetz['download_class_dif'].value_counts()"
   ]
  },
  {
   "cell_type": "code",
   "execution_count": null,
   "id": "af63e97c",
   "metadata": {},
   "outputs": [],
   "source": []
  },
  {
   "cell_type": "code",
   "execution_count": null,
   "id": "0133c801",
   "metadata": {},
   "outputs": [],
   "source": []
  },
  {
   "cell_type": "code",
   "execution_count": null,
   "id": "8b5fff8a",
   "metadata": {},
   "outputs": [],
   "source": []
  }
 ],
 "metadata": {
  "kernelspec": {
   "display_name": "Python 3 (ipykernel)",
   "language": "python",
   "name": "python3"
  },
  "language_info": {
   "codemirror_mode": {
    "name": "ipython",
    "version": 3
   },
   "file_extension": ".py",
   "mimetype": "text/x-python",
   "name": "python",
   "nbconvert_exporter": "python",
   "pygments_lexer": "ipython3",
   "version": "3.9.12"
  }
 },
 "nbformat": 4,
 "nbformat_minor": 5
}
